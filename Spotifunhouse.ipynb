{
 "cells": [
  {
   "cell_type": "code",
   "execution_count": 1,
   "metadata": {},
   "outputs": [],
   "source": [
    "# Author: Harry Mancinelli (+ Github Copilot)\n",
    "# Date: 2021-08-20\n",
    "# Github: ChuckleScriptCraft\n",
    "\n",
    "import spotipy\n",
    "from spotipy.oauth2 import SpotifyClientCredentials\n",
    "from spotipy.oauth2 import SpotifyOAuth\n",
    "import secret"
   ]
  },
  {
   "cell_type": "code",
   "execution_count": 4,
   "metadata": {},
   "outputs": [],
   "source": [
    "# Create a client credentials manager\n",
    "client_credentials_manager = SpotifyClientCredentials(client_id = secret.client_id, client_secret = secret.client_secret)\n",
    "\n",
    "# Create a Spotify client\n",
    "sp = spotipy.Spotify(client_credentials_manager=client_credentials_manager)\n"
   ]
  },
  {
   "cell_type": "code",
   "execution_count": 56,
   "metadata": {},
   "outputs": [
    {
     "name": "stdout",
     "output_type": "stream",
     "text": [
      "Most popular Bastille track: Starboy with a popularity of 94\n"
     ]
    }
   ],
   "source": [
    "# Search for the artist to get their Spotify ID\n",
    "results = sp.search(q='artist:' + 'Bastille', type='artist')\n",
    "artist_id = results['artists']['items'][0]['id']\n",
    "\n",
    "# Get the artist's albums\n",
    "albums = sp.artist_albums(artist_id, album_type='album')\n",
    "\n",
    "# Get the tracks from the albums\n",
    "tracks = []\n",
    "for album in albums['items']:\n",
    "    album_tracks = sp.album_tracks(album['id'])\n",
    "    for track in album_tracks['items']:\n",
    "        track_info = sp.track(track['id'])\n",
    "        tracks.append((track['name'], track_info['popularity']))\n",
    "\n",
    "# Sort the tracks by popularity\n",
    "tracks.sort(key=lambda x: x[1], reverse=True)\n",
    "\n",
    "# Print the most popular track\n",
    "print(f'Most popular Bastille track: {tracks[0][0]} with a popularity of {tracks[0][1]}')"
   ]
  },
  {
   "cell_type": "code",
   "execution_count": 164,
   "metadata": {},
   "outputs": [],
   "source": [
    "def find_top_5_songs(artist) :\n",
    "    results = sp.search(q='artist:' + artist, type='artist', market = 'GB')\n",
    "    artist_id = results['artists']['items'][0]['id']\n",
    "\n",
    "    # Get top tracks\n",
    "    top_tracks = sp.artist_top_tracks(artist_id, country = \"GB\")\n",
    "\n",
    "    # Print top 5 most popular songs and their popularity\n",
    "    print(f\"{artist}'s top 5 most popular songs:\")\n",
    "    for i, track in enumerate(top_tracks['tracks'][:5]):\n",
    "        print(f\"{i+1}. {track['name']}, {track['popularity']}\")\n"
   ]
  },
  {
   "cell_type": "code",
   "execution_count": 166,
   "metadata": {},
   "outputs": [
    {
     "name": "stdout",
     "output_type": "stream",
     "text": [
      "Harry Styles's top 5 most popular songs:\n",
      "1. As It Was, 95\n",
      "2. Watermelon Sugar, 89\n",
      "3. Sign of the Times, 85\n",
      "4. Adore You, 85\n",
      "5. Falling, 85\n"
     ]
    }
   ],
   "source": [
    "find_top_5_songs(\"Bastille\")"
   ]
  }
 ],
 "metadata": {
  "kernelspec": {
   "display_name": ".venv",
   "language": "python",
   "name": "python3"
  },
  "language_info": {
   "codemirror_mode": {
    "name": "ipython",
    "version": 3
   },
   "file_extension": ".py",
   "mimetype": "text/x-python",
   "name": "python",
   "nbconvert_exporter": "python",
   "pygments_lexer": "ipython3",
   "version": "3.11.7"
  }
 },
 "nbformat": 4,
 "nbformat_minor": 2
}
