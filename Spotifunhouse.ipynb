{
 "cells": [
  {
   "cell_type": "code",
   "execution_count": null,
   "metadata": {},
   "outputs": [],
   "source": [
    "# Author: Harry Mancinelli (+ Github Copilot)\n",
    "# Date: 2021-08-20\n",
    "# Github: ChuckleScriptCraft\n",
    "\n",
    "import spotipy\n",
    "from spotipy.oauth2 import SpotifyClientCredentials\n",
    "from spotipy.oauth2 import SpotifyOAuth\n",
    "import secret"
   ]
  },
  {
   "cell_type": "code",
   "execution_count": null,
   "metadata": {},
   "outputs": [],
   "source": [
    "# Create a client credentials manager\n",
    "client_credentials_manager = SpotifyClientCredentials(client_id = secret.client_id, client_secret = secret.client_secret)\n",
    "\n",
    "# Create a Spotify client\n",
    "sp = spotipy.Spotify(client_credentials_manager=client_credentials_manager)"
   ]
  },
  {
   "cell_type": "code",
   "execution_count": null,
   "metadata": {},
   "outputs": [],
   "source": [
    "def find_top_5_songs(artist) :\n",
    "    results = sp.search(q='artist:' + artist, type='artist', market = 'GB')\n",
    "    artist_id = results['artists']['items'][0]['id']\n",
    "\n",
    "    # Get top tracks\n",
    "    top_tracks = sp.artist_top_tracks(artist_id, country = \"GB\")\n",
    "\n",
    "    # Print top 5 most popular songs and their popularity\n",
    "    print(f\"{artist}'s top 5 most popular songs:\")\n",
    "    for i, track in enumerate(top_tracks['tracks'][:5]):\n",
    "        print(f\"{i+1}. {track['name']}, {track['popularity']}\")\n"
   ]
  },
  {
   "cell_type": "code",
   "execution_count": null,
   "metadata": {},
   "outputs": [],
   "source": [
    "find_top_5_songs(\"Bastille\")"
   ]
  }
 ],
 "metadata": {
  "kernelspec": {
   "display_name": ".venv",
   "language": "python",
   "name": "python3"
  },
  "language_info": {
   "codemirror_mode": {
    "name": "ipython",
    "version": 3
   },
   "file_extension": ".py",
   "mimetype": "text/x-python",
   "name": "python",
   "nbconvert_exporter": "python",
   "pygments_lexer": "ipython3",
   "version": "3.11.7"
  }
 },
 "nbformat": 4,
 "nbformat_minor": 2
}
